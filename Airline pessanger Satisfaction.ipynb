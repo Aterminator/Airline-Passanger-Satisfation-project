{
 "cells": [
  {
   "cell_type": "code",
   "execution_count": 118,
   "id": "edd498ef",
   "metadata": {},
   "outputs": [],
   "source": [
    "import numpy as np\n",
    "import pandas as pd\n",
    "import seaborn as sns\n",
    "from statsmodels.stats.outliers_influence import variance_inflation_factor\n",
    "from sklearn.model_selection import train_test_split, GridSearchCV\n",
    "from sklearn.preprocessing import MinMaxScaler\n",
    "from sklearn.ensemble import BaggingClassifier,RandomForestClassifier\n",
    "from sklearn.tree import DecisionTreeClassifier\n",
    "from sklearn.metrics import accuracy_score, f1_score, precision_score, roc_auc_score, recall_score, classification_report\n",
    "from sklearn.metrics import confusion_matrix\n",
    "from sklearn.tree import plot_tree\n",
    "import matplotlib.pyplot as plt\n",
    "import warnings\n",
    "warnings.filterwarnings(\"ignore\")"
   ]
  },
  {
   "cell_type": "code",
   "execution_count": 78,
   "id": "31af4429",
   "metadata": {},
   "outputs": [],
   "source": [
    "df = pd.read_csv('airline.csv')"
   ]
  },
  {
   "cell_type": "code",
   "execution_count": 79,
   "id": "20dd499a",
   "metadata": {},
   "outputs": [
    {
     "data": {
      "text/html": [
       "<div>\n",
       "<style scoped>\n",
       "    .dataframe tbody tr th:only-of-type {\n",
       "        vertical-align: middle;\n",
       "    }\n",
       "\n",
       "    .dataframe tbody tr th {\n",
       "        vertical-align: top;\n",
       "    }\n",
       "\n",
       "    .dataframe thead th {\n",
       "        text-align: right;\n",
       "    }\n",
       "</style>\n",
       "<table border=\"1\" class=\"dataframe\">\n",
       "  <thead>\n",
       "    <tr style=\"text-align: right;\">\n",
       "      <th></th>\n",
       "      <th>Unnamed: 0</th>\n",
       "      <th>id</th>\n",
       "      <th>Gender</th>\n",
       "      <th>Customer_Type</th>\n",
       "      <th>Age</th>\n",
       "      <th>Type_of_Travel</th>\n",
       "      <th>Class</th>\n",
       "      <th>Flight_Distance</th>\n",
       "      <th>Inflight_wifi_service</th>\n",
       "      <th>Departure/Arrival_time_convenient</th>\n",
       "      <th>...</th>\n",
       "      <th>Inflight_entertainment</th>\n",
       "      <th>On-board_service</th>\n",
       "      <th>Leg_room_service</th>\n",
       "      <th>Baggage_handling</th>\n",
       "      <th>Checkin_service</th>\n",
       "      <th>Inflight_service</th>\n",
       "      <th>Cleanliness</th>\n",
       "      <th>Departure_Delay_in_Minutes</th>\n",
       "      <th>Arrival_Delay_in_Minutes</th>\n",
       "      <th>satisfaction</th>\n",
       "    </tr>\n",
       "  </thead>\n",
       "  <tbody>\n",
       "    <tr>\n",
       "      <th>0</th>\n",
       "      <td>0</td>\n",
       "      <td>70172</td>\n",
       "      <td>Male</td>\n",
       "      <td>Loyal Customer</td>\n",
       "      <td>13</td>\n",
       "      <td>Personal Travel</td>\n",
       "      <td>Eco Plus</td>\n",
       "      <td>460</td>\n",
       "      <td>3</td>\n",
       "      <td>4</td>\n",
       "      <td>...</td>\n",
       "      <td>5</td>\n",
       "      <td>4</td>\n",
       "      <td>3</td>\n",
       "      <td>4</td>\n",
       "      <td>4</td>\n",
       "      <td>5</td>\n",
       "      <td>5</td>\n",
       "      <td>25</td>\n",
       "      <td>18.0</td>\n",
       "      <td>neutral or dissatisfied</td>\n",
       "    </tr>\n",
       "    <tr>\n",
       "      <th>1</th>\n",
       "      <td>1</td>\n",
       "      <td>5047</td>\n",
       "      <td>Male</td>\n",
       "      <td>disloyal Customer</td>\n",
       "      <td>25</td>\n",
       "      <td>Business travel</td>\n",
       "      <td>Business</td>\n",
       "      <td>235</td>\n",
       "      <td>3</td>\n",
       "      <td>2</td>\n",
       "      <td>...</td>\n",
       "      <td>1</td>\n",
       "      <td>1</td>\n",
       "      <td>5</td>\n",
       "      <td>3</td>\n",
       "      <td>1</td>\n",
       "      <td>4</td>\n",
       "      <td>1</td>\n",
       "      <td>1</td>\n",
       "      <td>6.0</td>\n",
       "      <td>neutral or dissatisfied</td>\n",
       "    </tr>\n",
       "    <tr>\n",
       "      <th>2</th>\n",
       "      <td>2</td>\n",
       "      <td>110028</td>\n",
       "      <td>Female</td>\n",
       "      <td>Loyal Customer</td>\n",
       "      <td>26</td>\n",
       "      <td>Business travel</td>\n",
       "      <td>Business</td>\n",
       "      <td>1142</td>\n",
       "      <td>2</td>\n",
       "      <td>2</td>\n",
       "      <td>...</td>\n",
       "      <td>5</td>\n",
       "      <td>4</td>\n",
       "      <td>3</td>\n",
       "      <td>4</td>\n",
       "      <td>4</td>\n",
       "      <td>4</td>\n",
       "      <td>5</td>\n",
       "      <td>0</td>\n",
       "      <td>0.0</td>\n",
       "      <td>satisfied</td>\n",
       "    </tr>\n",
       "    <tr>\n",
       "      <th>3</th>\n",
       "      <td>3</td>\n",
       "      <td>24026</td>\n",
       "      <td>Female</td>\n",
       "      <td>Loyal Customer</td>\n",
       "      <td>25</td>\n",
       "      <td>Business travel</td>\n",
       "      <td>Business</td>\n",
       "      <td>562</td>\n",
       "      <td>2</td>\n",
       "      <td>5</td>\n",
       "      <td>...</td>\n",
       "      <td>2</td>\n",
       "      <td>2</td>\n",
       "      <td>5</td>\n",
       "      <td>3</td>\n",
       "      <td>1</td>\n",
       "      <td>4</td>\n",
       "      <td>2</td>\n",
       "      <td>11</td>\n",
       "      <td>9.0</td>\n",
       "      <td>neutral or dissatisfied</td>\n",
       "    </tr>\n",
       "    <tr>\n",
       "      <th>4</th>\n",
       "      <td>4</td>\n",
       "      <td>119299</td>\n",
       "      <td>Male</td>\n",
       "      <td>Loyal Customer</td>\n",
       "      <td>61</td>\n",
       "      <td>Business travel</td>\n",
       "      <td>Business</td>\n",
       "      <td>214</td>\n",
       "      <td>3</td>\n",
       "      <td>3</td>\n",
       "      <td>...</td>\n",
       "      <td>3</td>\n",
       "      <td>3</td>\n",
       "      <td>4</td>\n",
       "      <td>4</td>\n",
       "      <td>3</td>\n",
       "      <td>3</td>\n",
       "      <td>3</td>\n",
       "      <td>0</td>\n",
       "      <td>0.0</td>\n",
       "      <td>satisfied</td>\n",
       "    </tr>\n",
       "  </tbody>\n",
       "</table>\n",
       "<p>5 rows × 25 columns</p>\n",
       "</div>"
      ],
      "text/plain": [
       "   Unnamed: 0      id  Gender      Customer_Type  Age   Type_of_Travel  \\\n",
       "0           0   70172    Male     Loyal Customer   13  Personal Travel   \n",
       "1           1    5047    Male  disloyal Customer   25  Business travel   \n",
       "2           2  110028  Female     Loyal Customer   26  Business travel   \n",
       "3           3   24026  Female     Loyal Customer   25  Business travel   \n",
       "4           4  119299    Male     Loyal Customer   61  Business travel   \n",
       "\n",
       "      Class  Flight_Distance  Inflight_wifi_service  \\\n",
       "0  Eco Plus              460                      3   \n",
       "1  Business              235                      3   \n",
       "2  Business             1142                      2   \n",
       "3  Business              562                      2   \n",
       "4  Business              214                      3   \n",
       "\n",
       "   Departure/Arrival_time_convenient  ...  Inflight_entertainment  \\\n",
       "0                                  4  ...                       5   \n",
       "1                                  2  ...                       1   \n",
       "2                                  2  ...                       5   \n",
       "3                                  5  ...                       2   \n",
       "4                                  3  ...                       3   \n",
       "\n",
       "   On-board_service  Leg_room_service  Baggage_handling  Checkin_service  \\\n",
       "0                 4                 3                 4                4   \n",
       "1                 1                 5                 3                1   \n",
       "2                 4                 3                 4                4   \n",
       "3                 2                 5                 3                1   \n",
       "4                 3                 4                 4                3   \n",
       "\n",
       "   Inflight_service  Cleanliness  Departure_Delay_in_Minutes  \\\n",
       "0                 5            5                          25   \n",
       "1                 4            1                           1   \n",
       "2                 4            5                           0   \n",
       "3                 4            2                          11   \n",
       "4                 3            3                           0   \n",
       "\n",
       "   Arrival_Delay_in_Minutes             satisfaction  \n",
       "0                      18.0  neutral or dissatisfied  \n",
       "1                       6.0  neutral or dissatisfied  \n",
       "2                       0.0                satisfied  \n",
       "3                       9.0  neutral or dissatisfied  \n",
       "4                       0.0                satisfied  \n",
       "\n",
       "[5 rows x 25 columns]"
      ]
     },
     "execution_count": 79,
     "metadata": {},
     "output_type": "execute_result"
    }
   ],
   "source": [
    "df.head()"
   ]
  },
  {
   "cell_type": "code",
   "execution_count": 80,
   "id": "95aa8b6a",
   "metadata": {},
   "outputs": [
    {
     "data": {
      "text/plain": [
       "(103904, 25)"
      ]
     },
     "execution_count": 80,
     "metadata": {},
     "output_type": "execute_result"
    }
   ],
   "source": [
    "df.shape"
   ]
  },
  {
   "cell_type": "code",
   "execution_count": 81,
   "id": "9a55a36f",
   "metadata": {},
   "outputs": [
    {
     "name": "stdout",
     "output_type": "stream",
     "text": [
      "<class 'pandas.core.frame.DataFrame'>\n",
      "RangeIndex: 103904 entries, 0 to 103903\n",
      "Data columns (total 25 columns):\n",
      " #   Column                             Non-Null Count   Dtype  \n",
      "---  ------                             --------------   -----  \n",
      " 0   Unnamed: 0                         103904 non-null  int64  \n",
      " 1   id                                 103904 non-null  int64  \n",
      " 2   Gender                             103904 non-null  object \n",
      " 3   Customer_Type                      103904 non-null  object \n",
      " 4   Age                                103904 non-null  int64  \n",
      " 5   Type_of_Travel                     103904 non-null  object \n",
      " 6   Class                              103904 non-null  object \n",
      " 7   Flight_Distance                    103904 non-null  int64  \n",
      " 8   Inflight_wifi_service              103904 non-null  int64  \n",
      " 9   Departure/Arrival_time_convenient  103904 non-null  int64  \n",
      " 10  Ease_of_Online booking             103904 non-null  int64  \n",
      " 11  Gate_location                      103904 non-null  int64  \n",
      " 12  Food_and_drink                     103904 non-null  int64  \n",
      " 13  Online_boarding                    103904 non-null  int64  \n",
      " 14  Seat_comfort                       103904 non-null  int64  \n",
      " 15  Inflight_entertainment             103904 non-null  int64  \n",
      " 16  On-board_service                   103904 non-null  int64  \n",
      " 17  Leg_room_service                   103904 non-null  int64  \n",
      " 18  Baggage_handling                   103904 non-null  int64  \n",
      " 19  Checkin_service                    103904 non-null  int64  \n",
      " 20  Inflight_service                   103904 non-null  int64  \n",
      " 21  Cleanliness                        103904 non-null  int64  \n",
      " 22  Departure_Delay_in_Minutes         103904 non-null  int64  \n",
      " 23  Arrival_Delay_in_Minutes           103594 non-null  float64\n",
      " 24  satisfaction                       103904 non-null  object \n",
      "dtypes: float64(1), int64(19), object(5)\n",
      "memory usage: 19.8+ MB\n"
     ]
    }
   ],
   "source": [
    "df.info()"
   ]
  },
  {
   "cell_type": "code",
   "execution_count": 82,
   "id": "a5b753ed",
   "metadata": {},
   "outputs": [
    {
     "data": {
      "text/plain": [
       "Unnamed: 0                             int64\n",
       "id                                     int64\n",
       "Gender                                object\n",
       "Customer_Type                         object\n",
       "Age                                    int64\n",
       "Type_of_Travel                        object\n",
       "Class                                 object\n",
       "Flight_Distance                        int64\n",
       "Inflight_wifi_service                  int64\n",
       "Departure/Arrival_time_convenient      int64\n",
       "Ease_of_Online booking                 int64\n",
       "Gate_location                          int64\n",
       "Food_and_drink                         int64\n",
       "Online_boarding                        int64\n",
       "Seat_comfort                           int64\n",
       "Inflight_entertainment                 int64\n",
       "On-board_service                       int64\n",
       "Leg_room_service                       int64\n",
       "Baggage_handling                       int64\n",
       "Checkin_service                        int64\n",
       "Inflight_service                       int64\n",
       "Cleanliness                            int64\n",
       "Departure_Delay_in_Minutes             int64\n",
       "Arrival_Delay_in_Minutes             float64\n",
       "satisfaction                          object\n",
       "dtype: object"
      ]
     },
     "execution_count": 82,
     "metadata": {},
     "output_type": "execute_result"
    }
   ],
   "source": [
    "df.dtypes"
   ]
  },
  {
   "cell_type": "code",
   "execution_count": 83,
   "id": "3053b681",
   "metadata": {},
   "outputs": [
    {
     "data": {
      "text/plain": [
       "Unnamed: 0                             0\n",
       "id                                     0\n",
       "Gender                                 0\n",
       "Customer_Type                          0\n",
       "Age                                    0\n",
       "Type_of_Travel                         0\n",
       "Class                                  0\n",
       "Flight_Distance                        0\n",
       "Inflight_wifi_service                  0\n",
       "Departure/Arrival_time_convenient      0\n",
       "Ease_of_Online booking                 0\n",
       "Gate_location                          0\n",
       "Food_and_drink                         0\n",
       "Online_boarding                        0\n",
       "Seat_comfort                           0\n",
       "Inflight_entertainment                 0\n",
       "On-board_service                       0\n",
       "Leg_room_service                       0\n",
       "Baggage_handling                       0\n",
       "Checkin_service                        0\n",
       "Inflight_service                       0\n",
       "Cleanliness                            0\n",
       "Departure_Delay_in_Minutes             0\n",
       "Arrival_Delay_in_Minutes             310\n",
       "satisfaction                           0\n",
       "dtype: int64"
      ]
     },
     "execution_count": 83,
     "metadata": {},
     "output_type": "execute_result"
    }
   ],
   "source": [
    "df.isnull().sum()"
   ]
  },
  {
   "cell_type": "code",
   "execution_count": 84,
   "id": "e602202b",
   "metadata": {},
   "outputs": [],
   "source": [
    "df=df.dropna(how ='any')"
   ]
  },
  {
   "cell_type": "code",
   "execution_count": 85,
   "id": "31777dfd",
   "metadata": {},
   "outputs": [
    {
     "data": {
      "text/plain": [
       "Unnamed: 0                           0\n",
       "id                                   0\n",
       "Gender                               0\n",
       "Customer_Type                        0\n",
       "Age                                  0\n",
       "Type_of_Travel                       0\n",
       "Class                                0\n",
       "Flight_Distance                      0\n",
       "Inflight_wifi_service                0\n",
       "Departure/Arrival_time_convenient    0\n",
       "Ease_of_Online booking               0\n",
       "Gate_location                        0\n",
       "Food_and_drink                       0\n",
       "Online_boarding                      0\n",
       "Seat_comfort                         0\n",
       "Inflight_entertainment               0\n",
       "On-board_service                     0\n",
       "Leg_room_service                     0\n",
       "Baggage_handling                     0\n",
       "Checkin_service                      0\n",
       "Inflight_service                     0\n",
       "Cleanliness                          0\n",
       "Departure_Delay_in_Minutes           0\n",
       "Arrival_Delay_in_Minutes             0\n",
       "satisfaction                         0\n",
       "dtype: int64"
      ]
     },
     "execution_count": 85,
     "metadata": {},
     "output_type": "execute_result"
    }
   ],
   "source": [
    "df.isnull().sum()"
   ]
  },
  {
   "cell_type": "code",
   "execution_count": 86,
   "id": "88ab93d6",
   "metadata": {},
   "outputs": [],
   "source": [
    "df= df.drop(['Unnamed: 0', 'id'], axis = 1)"
   ]
  },
  {
   "cell_type": "code",
   "execution_count": 87,
   "id": "9100b786",
   "metadata": {},
   "outputs": [
    {
     "data": {
      "text/plain": [
       "0"
      ]
     },
     "execution_count": 87,
     "metadata": {},
     "output_type": "execute_result"
    }
   ],
   "source": [
    "df.duplicated().sum()"
   ]
  },
  {
   "cell_type": "code",
   "execution_count": 88,
   "id": "48317cdd",
   "metadata": {},
   "outputs": [
    {
     "data": {
      "text/plain": [
       "array(['neutral or dissatisfied', 'satisfied'], dtype=object)"
      ]
     },
     "execution_count": 88,
     "metadata": {},
     "output_type": "execute_result"
    }
   ],
   "source": [
    "df.satisfaction.unique()"
   ]
  },
  {
   "cell_type": "code",
   "execution_count": 89,
   "id": "b26e6dc4",
   "metadata": {},
   "outputs": [
    {
     "data": {
      "text/plain": [
       "array(['Eco Plus', 'Business', 'Eco'], dtype=object)"
      ]
     },
     "execution_count": 89,
     "metadata": {},
     "output_type": "execute_result"
    }
   ],
   "source": [
    "df['Class'].unique()"
   ]
  },
  {
   "cell_type": "code",
   "execution_count": 90,
   "id": "a085c09f",
   "metadata": {},
   "outputs": [
    {
     "data": {
      "text/plain": [
       "array(['Personal Travel', 'Business travel'], dtype=object)"
      ]
     },
     "execution_count": 90,
     "metadata": {},
     "output_type": "execute_result"
    }
   ],
   "source": [
    "df['Type_of_Travel'].unique()"
   ]
  },
  {
   "cell_type": "code",
   "execution_count": 91,
   "id": "f67073f9",
   "metadata": {},
   "outputs": [
    {
     "data": {
      "text/plain": [
       "array(['Loyal Customer', 'disloyal Customer'], dtype=object)"
      ]
     },
     "execution_count": 91,
     "metadata": {},
     "output_type": "execute_result"
    }
   ],
   "source": [
    "df['Customer_Type'].unique()"
   ]
  },
  {
   "cell_type": "code",
   "execution_count": 92,
   "id": "eb7520d6",
   "metadata": {},
   "outputs": [
    {
     "data": {
      "text/plain": [
       "array(['Male', 'Female'], dtype=object)"
      ]
     },
     "execution_count": 92,
     "metadata": {},
     "output_type": "execute_result"
    }
   ],
   "source": [
    "df['Gender'].unique()"
   ]
  },
  {
   "cell_type": "markdown",
   "id": "5c1de220",
   "metadata": {},
   "source": [
    "## EDA"
   ]
  },
  {
   "cell_type": "code",
   "execution_count": 93,
   "id": "7734d06f",
   "metadata": {},
   "outputs": [
    {
     "data": {
      "text/plain": [
       "neutral or dissatisfied    58697\n",
       "satisfied                  44897\n",
       "Name: satisfaction, dtype: int64"
      ]
     },
     "execution_count": 93,
     "metadata": {},
     "output_type": "execute_result"
    }
   ],
   "source": [
    "df.satisfaction.value_counts()"
   ]
  },
  {
   "cell_type": "code",
   "execution_count": 94,
   "id": "c15cd029",
   "metadata": {},
   "outputs": [
    {
     "data": {
      "image/png": "[encoded data removed]",
      "text/plain": [
       "<Figure size 500x400 with 1 Axes>"
      ]
     },
     "metadata": {},
     "output_type": "display_data"
    }
   ],
   "source": [
    "value_counts = df['satisfaction'].value_counts()\n",
    "\n",
    "# Create a bar plot using Seaborn\n",
    "plt.figure(figsize=(5, 4))\n",
    "sns.set_style(\"whitegrid\")\n",
    "sns.color_palette(\"deep\")\n",
    "sns.set_palette(\"deep\")\n",
    "sns.barplot(x=value_counts.index, y=value_counts.values)\n",
    "plt.title(\"satisfaction Distribution\")\n",
    "plt.xlabel(\"satisfaction\")\n",
    "plt.ylabel(\"Count\")\n",
    "plt.show()"
   ]
  },
  {
   "cell_type": "code",
   "execution_count": 95,
   "id": "27580740",
   "metadata": {},
   "outputs": [
    {
     "data": {
      "image/png": "[encoded data removed]",
      "text/plain": [
       "<Figure size 750x250 with 2 Axes>"
      ]
     },
     "metadata": {},
     "output_type": "display_data"
    },
    {
     "data": {
      "image/png": "[encoded data removed]",
      "text/plain": [
       "<Figure size 750x250 with 2 Axes>"
      ]
     },
     "metadata": {},
     "output_type": "display_data"
    }
   ],
   "source": [
    "# Gender and Customer type\n",
    "with sns.axes_style(style='ticks'):\n",
    "    g = sns.catplot(x=\"satisfaction\", col=\"Gender\", data=df, kind=\"count\", height=2.5, aspect=1.5)  \n",
    "    g = sns.catplot(x=\"satisfaction\", col=\"Customer_Type\", data=df, kind=\"count\", height=2.5, aspect=1.5)\n",
    "\n",
    "plt.show()\n"
   ]
  },
  {
   "cell_type": "markdown",
   "id": "40ed09e2",
   "metadata": {},
   "source": [
    "Gender:\n",
    "It is observed that gender distribution of neutral/dissatisfied and satisfied customers are similar. For both male and female passengers, number of neutral/dissatisfied customers are on the higher when compared to number of satisfied customers.\n",
    "\n",
    "Customer Type:\n",
    "Even among loyal passengers which are high in number, the ratio of satisfied and neutral/dissatisfied ones are almost close to 49:51."
   ]
  },
  {
   "cell_type": "code",
   "execution_count": 96,
   "id": "e33719c9",
   "metadata": {},
   "outputs": [
    {
     "data": {
      "image/png": "[encoded data removed]",
      "text/plain": [
       "<Figure size 1681.62x500 with 3 Axes>"
      ]
     },
     "metadata": {},
     "output_type": "display_data"
    }
   ],
   "source": [
    "# Type_of_Travel and Flight_Distance by Class\n",
    "with sns.axes_style('white'):\n",
    "    g = sns.catplot(x=\"Flight_Distance\", y=\"Type_of_Travel\", hue=\"satisfaction\", col=\"Class\", data=df, kind=\"bar\")"
   ]
  },
  {
   "cell_type": "markdown",
   "id": "cba5a6f9",
   "metadata": {},
   "source": [
    "Type of Travel and Flight Distance grouped by Class:\n",
    "- For business travel in business class category, the number of satisfied passengers are quite on the higher for longer flight distance. For other combinations, almost equal distribution of satisfied and neutral/dissatisfied passengers is present."
   ]
  },
  {
   "cell_type": "code",
   "execution_count": null,
   "id": "8649ac6b",
   "metadata": {},
   "outputs": [],
   "source": []
  },
  {
   "cell_type": "code",
   "execution_count": null,
   "id": "916d0da5",
   "metadata": {},
   "outputs": [],
   "source": []
  },
  {
   "cell_type": "code",
   "execution_count": null,
   "id": "2e71dfb9",
   "metadata": {},
   "outputs": [],
   "source": []
  },
  {
   "cell_type": "markdown",
   "id": "8ed7ff66",
   "metadata": {},
   "source": [
    "### Data preprocessing"
   ]
  },
  {
   "cell_type": "code",
   "execution_count": 97,
   "id": "56dca548",
   "metadata": {},
   "outputs": [
    {
     "data": {
      "text/plain": [
       "Gender                                object\n",
       "Customer_Type                         object\n",
       "Age                                    int64\n",
       "Type_of_Travel                        object\n",
       "Class                                 object\n",
       "Flight_Distance                        int64\n",
       "Inflight_wifi_service                  int64\n",
       "Departure/Arrival_time_convenient      int64\n",
       "Ease_of_Online booking                 int64\n",
       "Gate_location                          int64\n",
       "Food_and_drink                         int64\n",
       "Online_boarding                        int64\n",
       "Seat_comfort                           int64\n",
       "Inflight_entertainment                 int64\n",
       "On-board_service                       int64\n",
       "Leg_room_service                       int64\n",
       "Baggage_handling                       int64\n",
       "Checkin_service                        int64\n",
       "Inflight_service                       int64\n",
       "Cleanliness                            int64\n",
       "Departure_Delay_in_Minutes             int64\n",
       "Arrival_Delay_in_Minutes             float64\n",
       "satisfaction                          object\n",
       "dtype: object"
      ]
     },
     "execution_count": 97,
     "metadata": {},
     "output_type": "execute_result"
    }
   ],
   "source": [
    "df.dtypes"
   ]
  },
  {
   "cell_type": "markdown",
   "id": "ed7b33a3",
   "metadata": {},
   "source": [
    "\n",
    "The following features: Gender, Customer Type, Type of Travel, and Class are all currently categorical data (dtype: \"object\"). However, we need to convert it to numerical data in order for our Machine Learning model(s) to be able understand the data. Therefore, we'll do just that using the get_dummies function from pandas."
   ]
  },
  {
   "cell_type": "code",
   "execution_count": 98,
   "id": "5f6aa4ea",
   "metadata": {},
   "outputs": [],
   "source": [
    "df_num = df.select_dtypes(include='number')"
   ]
  },
  {
   "cell_type": "code",
   "execution_count": 99,
   "id": "0eec305c",
   "metadata": {},
   "outputs": [
    {
     "data": {
      "text/html": [
       "<div>\n",
       "<style scoped>\n",
       "    .dataframe tbody tr th:only-of-type {\n",
       "        vertical-align: middle;\n",
       "    }\n",
       "\n",
       "    .dataframe tbody tr th {\n",
       "        vertical-align: top;\n",
       "    }\n",
       "\n",
       "    .dataframe thead th {\n",
       "        text-align: right;\n",
       "    }\n",
       "</style>\n",
       "<table border=\"1\" class=\"dataframe\">\n",
       "  <thead>\n",
       "    <tr style=\"text-align: right;\">\n",
       "      <th></th>\n",
       "      <th>Age</th>\n",
       "      <th>Flight_Distance</th>\n",
       "      <th>Inflight_wifi_service</th>\n",
       "      <th>Departure/Arrival_time_convenient</th>\n",
       "      <th>Ease_of_Online booking</th>\n",
       "      <th>Gate_location</th>\n",
       "      <th>Food_and_drink</th>\n",
       "      <th>Online_boarding</th>\n",
       "      <th>Seat_comfort</th>\n",
       "      <th>Inflight_entertainment</th>\n",
       "      <th>On-board_service</th>\n",
       "      <th>Leg_room_service</th>\n",
       "      <th>Baggage_handling</th>\n",
       "      <th>Checkin_service</th>\n",
       "      <th>Inflight_service</th>\n",
       "      <th>Cleanliness</th>\n",
       "      <th>Departure_Delay_in_Minutes</th>\n",
       "      <th>Arrival_Delay_in_Minutes</th>\n",
       "    </tr>\n",
       "  </thead>\n",
       "  <tbody>\n",
       "    <tr>\n",
       "      <th>0</th>\n",
       "      <td>13</td>\n",
       "      <td>460</td>\n",
       "      <td>3</td>\n",
       "      <td>4</td>\n",
       "      <td>3</td>\n",
       "      <td>1</td>\n",
       "      <td>5</td>\n",
       "      <td>3</td>\n",
       "      <td>5</td>\n",
       "      <td>5</td>\n",
       "      <td>4</td>\n",
       "      <td>3</td>\n",
       "      <td>4</td>\n",
       "      <td>4</td>\n",
       "      <td>5</td>\n",
       "      <td>5</td>\n",
       "      <td>25</td>\n",
       "      <td>18.0</td>\n",
       "    </tr>\n",
       "    <tr>\n",
       "      <th>1</th>\n",
       "      <td>25</td>\n",
       "      <td>235</td>\n",
       "      <td>3</td>\n",
       "      <td>2</td>\n",
       "      <td>3</td>\n",
       "      <td>3</td>\n",
       "      <td>1</td>\n",
       "      <td>3</td>\n",
       "      <td>1</td>\n",
       "      <td>1</td>\n",
       "      <td>1</td>\n",
       "      <td>5</td>\n",
       "      <td>3</td>\n",
       "      <td>1</td>\n",
       "      <td>4</td>\n",
       "      <td>1</td>\n",
       "      <td>1</td>\n",
       "      <td>6.0</td>\n",
       "    </tr>\n",
       "    <tr>\n",
       "      <th>2</th>\n",
       "      <td>26</td>\n",
       "      <td>1142</td>\n",
       "      <td>2</td>\n",
       "      <td>2</td>\n",
       "      <td>2</td>\n",
       "      <td>2</td>\n",
       "      <td>5</td>\n",
       "      <td>5</td>\n",
       "      <td>5</td>\n",
       "      <td>5</td>\n",
       "      <td>4</td>\n",
       "      <td>3</td>\n",
       "      <td>4</td>\n",
       "      <td>4</td>\n",
       "      <td>4</td>\n",
       "      <td>5</td>\n",
       "      <td>0</td>\n",
       "      <td>0.0</td>\n",
       "    </tr>\n",
       "    <tr>\n",
       "      <th>3</th>\n",
       "      <td>25</td>\n",
       "      <td>562</td>\n",
       "      <td>2</td>\n",
       "      <td>5</td>\n",
       "      <td>5</td>\n",
       "      <td>5</td>\n",
       "      <td>2</td>\n",
       "      <td>2</td>\n",
       "      <td>2</td>\n",
       "      <td>2</td>\n",
       "      <td>2</td>\n",
       "      <td>5</td>\n",
       "      <td>3</td>\n",
       "      <td>1</td>\n",
       "      <td>4</td>\n",
       "      <td>2</td>\n",
       "      <td>11</td>\n",
       "      <td>9.0</td>\n",
       "    </tr>\n",
       "    <tr>\n",
       "      <th>4</th>\n",
       "      <td>61</td>\n",
       "      <td>214</td>\n",
       "      <td>3</td>\n",
       "      <td>3</td>\n",
       "      <td>3</td>\n",
       "      <td>3</td>\n",
       "      <td>4</td>\n",
       "      <td>5</td>\n",
       "      <td>5</td>\n",
       "      <td>3</td>\n",
       "      <td>3</td>\n",
       "      <td>4</td>\n",
       "      <td>4</td>\n",
       "      <td>3</td>\n",
       "      <td>3</td>\n",
       "      <td>3</td>\n",
       "      <td>0</td>\n",
       "      <td>0.0</td>\n",
       "    </tr>\n",
       "  </tbody>\n",
       "</table>\n",
       "</div>"
      ],
      "text/plain": [
       "   Age  Flight_Distance  Inflight_wifi_service  \\\n",
       "0   13              460                      3   \n",
       "1   25              235                      3   \n",
       "2   26             1142                      2   \n",
       "3   25              562                      2   \n",
       "4   61              214                      3   \n",
       "\n",
       "   Departure/Arrival_time_convenient  Ease_of_Online booking  Gate_location  \\\n",
       "0                                  4                       3              1   \n",
       "1                                  2                       3              3   \n",
       "2                                  2                       2              2   \n",
       "3                                  5                       5              5   \n",
       "4                                  3                       3              3   \n",
       "\n",
       "   Food_and_drink  Online_boarding  Seat_comfort  Inflight_entertainment  \\\n",
       "0               5                3             5                       5   \n",
       "1               1                3             1                       1   \n",
       "2               5                5             5                       5   \n",
       "3               2                2             2                       2   \n",
       "4               4                5             5                       3   \n",
       "\n",
       "   On-board_service  Leg_room_service  Baggage_handling  Checkin_service  \\\n",
       "0                 4                 3                 4                4   \n",
       "1                 1                 5                 3                1   \n",
       "2                 4                 3                 4                4   \n",
       "3                 2                 5                 3                1   \n",
       "4                 3                 4                 4                3   \n",
       "\n",
       "   Inflight_service  Cleanliness  Departure_Delay_in_Minutes  \\\n",
       "0                 5            5                          25   \n",
       "1                 4            1                           1   \n",
       "2                 4            5                           0   \n",
       "3                 4            2                          11   \n",
       "4                 3            3                           0   \n",
       "\n",
       "   Arrival_Delay_in_Minutes  \n",
       "0                      18.0  \n",
       "1                       6.0  \n",
       "2                       0.0  \n",
       "3                       9.0  \n",
       "4                       0.0  "
      ]
     },
     "execution_count": 99,
     "metadata": {},
     "output_type": "execute_result"
    }
   ],
   "source": [
    "df_num.head()"
   ]
  },
  {
   "cell_type": "code",
   "execution_count": 100,
   "id": "326ce446",
   "metadata": {},
   "outputs": [
    {
     "data": {
      "text/html": [
       "<div>\n",
       "<style scoped>\n",
       "    .dataframe tbody tr th:only-of-type {\n",
       "        vertical-align: middle;\n",
       "    }\n",
       "\n",
       "    .dataframe tbody tr th {\n",
       "        vertical-align: top;\n",
       "    }\n",
       "\n",
       "    .dataframe thead th {\n",
       "        text-align: right;\n",
       "    }\n",
       "</style>\n",
       "<table border=\"1\" class=\"dataframe\">\n",
       "  <thead>\n",
       "    <tr style=\"text-align: right;\">\n",
       "      <th></th>\n",
       "      <th>Age</th>\n",
       "      <th>Flight_Distance</th>\n",
       "      <th>Inflight_wifi_service</th>\n",
       "      <th>Departure/Arrival_time_convenient</th>\n",
       "      <th>Ease_of_Online booking</th>\n",
       "      <th>Gate_location</th>\n",
       "      <th>Food_and_drink</th>\n",
       "      <th>Online_boarding</th>\n",
       "      <th>Seat_comfort</th>\n",
       "      <th>Inflight_entertainment</th>\n",
       "      <th>On-board_service</th>\n",
       "      <th>Leg_room_service</th>\n",
       "      <th>Baggage_handling</th>\n",
       "      <th>Checkin_service</th>\n",
       "      <th>Inflight_service</th>\n",
       "      <th>Cleanliness</th>\n",
       "      <th>Departure_Delay_in_Minutes</th>\n",
       "      <th>Arrival_Delay_in_Minutes</th>\n",
       "    </tr>\n",
       "  </thead>\n",
       "  <tbody>\n",
       "    <tr>\n",
       "      <th>Age</th>\n",
       "      <td>1.000000</td>\n",
       "      <td>0.099838</td>\n",
       "      <td>0.017470</td>\n",
       "      <td>0.038038</td>\n",
       "      <td>0.024461</td>\n",
       "      <td>-0.001558</td>\n",
       "      <td>0.022920</td>\n",
       "      <td>0.208681</td>\n",
       "      <td>0.160302</td>\n",
       "      <td>0.076380</td>\n",
       "      <td>0.057123</td>\n",
       "      <td>0.040498</td>\n",
       "      <td>-0.047619</td>\n",
       "      <td>0.035003</td>\n",
       "      <td>-0.049899</td>\n",
       "      <td>0.053493</td>\n",
       "      <td>-0.010150</td>\n",
       "      <td>-0.012147</td>\n",
       "    </tr>\n",
       "    <tr>\n",
       "      <th>Flight_Distance</th>\n",
       "      <td>0.099838</td>\n",
       "      <td>1.000000</td>\n",
       "      <td>0.007050</td>\n",
       "      <td>-0.019908</td>\n",
       "      <td>0.065697</td>\n",
       "      <td>0.004732</td>\n",
       "      <td>0.056957</td>\n",
       "      <td>0.215191</td>\n",
       "      <td>0.157517</td>\n",
       "      <td>0.128645</td>\n",
       "      <td>0.109540</td>\n",
       "      <td>0.133839</td>\n",
       "      <td>0.063222</td>\n",
       "      <td>0.073224</td>\n",
       "      <td>0.057430</td>\n",
       "      <td>0.093121</td>\n",
       "      <td>0.001906</td>\n",
       "      <td>-0.002426</td>\n",
       "    </tr>\n",
       "    <tr>\n",
       "      <th>Inflight_wifi_service</th>\n",
       "      <td>0.017470</td>\n",
       "      <td>0.007050</td>\n",
       "      <td>1.000000</td>\n",
       "      <td>0.343758</td>\n",
       "      <td>0.715848</td>\n",
       "      <td>0.336127</td>\n",
       "      <td>0.134603</td>\n",
       "      <td>0.457002</td>\n",
       "      <td>0.122617</td>\n",
       "      <td>0.209513</td>\n",
       "      <td>0.121484</td>\n",
       "      <td>0.160485</td>\n",
       "      <td>0.121060</td>\n",
       "      <td>0.043178</td>\n",
       "      <td>0.110626</td>\n",
       "      <td>0.132652</td>\n",
       "      <td>-0.017451</td>\n",
       "      <td>-0.019095</td>\n",
       "    </tr>\n",
       "    <tr>\n",
       "      <th>Departure/Arrival_time_convenient</th>\n",
       "      <td>0.038038</td>\n",
       "      <td>-0.019908</td>\n",
       "      <td>0.343758</td>\n",
       "      <td>1.000000</td>\n",
       "      <td>0.437021</td>\n",
       "      <td>0.444601</td>\n",
       "      <td>0.005189</td>\n",
       "      <td>0.069990</td>\n",
       "      <td>0.011416</td>\n",
       "      <td>-0.004683</td>\n",
       "      <td>0.068604</td>\n",
       "      <td>0.012461</td>\n",
       "      <td>0.071901</td>\n",
       "      <td>0.093329</td>\n",
       "      <td>0.073227</td>\n",
       "      <td>0.014337</td>\n",
       "      <td>0.000791</td>\n",
       "      <td>-0.000864</td>\n",
       "    </tr>\n",
       "    <tr>\n",
       "      <th>Ease_of_Online booking</th>\n",
       "      <td>0.024461</td>\n",
       "      <td>0.065697</td>\n",
       "      <td>0.715848</td>\n",
       "      <td>0.437021</td>\n",
       "      <td>1.000000</td>\n",
       "      <td>0.458746</td>\n",
       "      <td>0.031940</td>\n",
       "      <td>0.404093</td>\n",
       "      <td>0.030021</td>\n",
       "      <td>0.047185</td>\n",
       "      <td>0.038759</td>\n",
       "      <td>0.107431</td>\n",
       "      <td>0.038851</td>\n",
       "      <td>0.010957</td>\n",
       "      <td>0.035330</td>\n",
       "      <td>0.016192</td>\n",
       "      <td>-0.006292</td>\n",
       "      <td>-0.007984</td>\n",
       "    </tr>\n",
       "    <tr>\n",
       "      <th>Gate_location</th>\n",
       "      <td>-0.001558</td>\n",
       "      <td>0.004732</td>\n",
       "      <td>0.336127</td>\n",
       "      <td>0.444601</td>\n",
       "      <td>0.458746</td>\n",
       "      <td>1.000000</td>\n",
       "      <td>-0.001170</td>\n",
       "      <td>0.001451</td>\n",
       "      <td>0.003383</td>\n",
       "      <td>0.003564</td>\n",
       "      <td>-0.028532</td>\n",
       "      <td>-0.005868</td>\n",
       "      <td>0.002421</td>\n",
       "      <td>-0.035451</td>\n",
       "      <td>0.001742</td>\n",
       "      <td>-0.004015</td>\n",
       "      <td>0.005533</td>\n",
       "      <td>0.005143</td>\n",
       "    </tr>\n",
       "    <tr>\n",
       "      <th>Food_and_drink</th>\n",
       "      <td>0.022920</td>\n",
       "      <td>0.056957</td>\n",
       "      <td>0.134603</td>\n",
       "      <td>0.005189</td>\n",
       "      <td>0.031940</td>\n",
       "      <td>-0.001170</td>\n",
       "      <td>1.000000</td>\n",
       "      <td>0.234492</td>\n",
       "      <td>0.574561</td>\n",
       "      <td>0.622374</td>\n",
       "      <td>0.058999</td>\n",
       "      <td>0.032415</td>\n",
       "      <td>0.034811</td>\n",
       "      <td>0.087055</td>\n",
       "      <td>0.034077</td>\n",
       "      <td>0.657648</td>\n",
       "      <td>-0.029983</td>\n",
       "      <td>-0.032524</td>\n",
       "    </tr>\n",
       "    <tr>\n",
       "      <th>Online_boarding</th>\n",
       "      <td>0.208681</td>\n",
       "      <td>0.215191</td>\n",
       "      <td>0.457002</td>\n",
       "      <td>0.069990</td>\n",
       "      <td>0.404093</td>\n",
       "      <td>0.001451</td>\n",
       "      <td>0.234492</td>\n",
       "      <td>1.000000</td>\n",
       "      <td>0.420067</td>\n",
       "      <td>0.285194</td>\n",
       "      <td>0.155345</td>\n",
       "      <td>0.123780</td>\n",
       "      <td>0.083299</td>\n",
       "      <td>0.204208</td>\n",
       "      <td>0.074390</td>\n",
       "      <td>0.331498</td>\n",
       "      <td>-0.018515</td>\n",
       "      <td>-0.021949</td>\n",
       "    </tr>\n",
       "    <tr>\n",
       "      <th>Seat_comfort</th>\n",
       "      <td>0.160302</td>\n",
       "      <td>0.157517</td>\n",
       "      <td>0.122617</td>\n",
       "      <td>0.011416</td>\n",
       "      <td>0.030021</td>\n",
       "      <td>0.003383</td>\n",
       "      <td>0.574561</td>\n",
       "      <td>0.420067</td>\n",
       "      <td>1.000000</td>\n",
       "      <td>0.610614</td>\n",
       "      <td>0.132030</td>\n",
       "      <td>0.105447</td>\n",
       "      <td>0.074553</td>\n",
       "      <td>0.191545</td>\n",
       "      <td>0.069193</td>\n",
       "      <td>0.678478</td>\n",
       "      <td>-0.027323</td>\n",
       "      <td>-0.029900</td>\n",
       "    </tr>\n",
       "    <tr>\n",
       "      <th>Inflight_entertainment</th>\n",
       "      <td>0.076380</td>\n",
       "      <td>0.128645</td>\n",
       "      <td>0.209513</td>\n",
       "      <td>-0.004683</td>\n",
       "      <td>0.047185</td>\n",
       "      <td>0.003564</td>\n",
       "      <td>0.622374</td>\n",
       "      <td>0.285194</td>\n",
       "      <td>0.610614</td>\n",
       "      <td>1.000000</td>\n",
       "      <td>0.420352</td>\n",
       "      <td>0.299850</td>\n",
       "      <td>0.378361</td>\n",
       "      <td>0.120812</td>\n",
       "      <td>0.405247</td>\n",
       "      <td>0.691735</td>\n",
       "      <td>-0.027691</td>\n",
       "      <td>-0.030703</td>\n",
       "    </tr>\n",
       "    <tr>\n",
       "      <th>On-board_service</th>\n",
       "      <td>0.057123</td>\n",
       "      <td>0.109540</td>\n",
       "      <td>0.121484</td>\n",
       "      <td>0.068604</td>\n",
       "      <td>0.038759</td>\n",
       "      <td>-0.028532</td>\n",
       "      <td>0.058999</td>\n",
       "      <td>0.155345</td>\n",
       "      <td>0.132030</td>\n",
       "      <td>0.420352</td>\n",
       "      <td>1.000000</td>\n",
       "      <td>0.355657</td>\n",
       "      <td>0.519252</td>\n",
       "      <td>0.243852</td>\n",
       "      <td>0.550725</td>\n",
       "      <td>0.123236</td>\n",
       "      <td>-0.031474</td>\n",
       "      <td>-0.035227</td>\n",
       "    </tr>\n",
       "    <tr>\n",
       "      <th>Leg_room_service</th>\n",
       "      <td>0.040498</td>\n",
       "      <td>0.133839</td>\n",
       "      <td>0.160485</td>\n",
       "      <td>0.012461</td>\n",
       "      <td>0.107431</td>\n",
       "      <td>-0.005868</td>\n",
       "      <td>0.032415</td>\n",
       "      <td>0.123780</td>\n",
       "      <td>0.105447</td>\n",
       "      <td>0.299850</td>\n",
       "      <td>0.355657</td>\n",
       "      <td>1.000000</td>\n",
       "      <td>0.369674</td>\n",
       "      <td>0.153079</td>\n",
       "      <td>0.368925</td>\n",
       "      <td>0.096401</td>\n",
       "      <td>0.014336</td>\n",
       "      <td>0.011843</td>\n",
       "    </tr>\n",
       "    <tr>\n",
       "      <th>Baggage_handling</th>\n",
       "      <td>-0.047619</td>\n",
       "      <td>0.063222</td>\n",
       "      <td>0.121060</td>\n",
       "      <td>0.071901</td>\n",
       "      <td>0.038851</td>\n",
       "      <td>0.002421</td>\n",
       "      <td>0.034811</td>\n",
       "      <td>0.083299</td>\n",
       "      <td>0.074553</td>\n",
       "      <td>0.378361</td>\n",
       "      <td>0.519252</td>\n",
       "      <td>0.369674</td>\n",
       "      <td>1.000000</td>\n",
       "      <td>0.233326</td>\n",
       "      <td>0.628944</td>\n",
       "      <td>0.095783</td>\n",
       "      <td>-0.005683</td>\n",
       "      <td>-0.008542</td>\n",
       "    </tr>\n",
       "    <tr>\n",
       "      <th>Checkin_service</th>\n",
       "      <td>0.035003</td>\n",
       "      <td>0.073224</td>\n",
       "      <td>0.043178</td>\n",
       "      <td>0.093329</td>\n",
       "      <td>0.010957</td>\n",
       "      <td>-0.035451</td>\n",
       "      <td>0.087055</td>\n",
       "      <td>0.204208</td>\n",
       "      <td>0.191545</td>\n",
       "      <td>0.120812</td>\n",
       "      <td>0.243852</td>\n",
       "      <td>0.153079</td>\n",
       "      <td>0.233326</td>\n",
       "      <td>1.000000</td>\n",
       "      <td>0.237256</td>\n",
       "      <td>0.179431</td>\n",
       "      <td>-0.018065</td>\n",
       "      <td>-0.020369</td>\n",
       "    </tr>\n",
       "    <tr>\n",
       "      <th>Inflight_service</th>\n",
       "      <td>-0.049899</td>\n",
       "      <td>0.057430</td>\n",
       "      <td>0.110626</td>\n",
       "      <td>0.073227</td>\n",
       "      <td>0.035330</td>\n",
       "      <td>0.001742</td>\n",
       "      <td>0.034077</td>\n",
       "      <td>0.074390</td>\n",
       "      <td>0.069193</td>\n",
       "      <td>0.405247</td>\n",
       "      <td>0.550725</td>\n",
       "      <td>0.368925</td>\n",
       "      <td>0.628944</td>\n",
       "      <td>0.237256</td>\n",
       "      <td>1.000000</td>\n",
       "      <td>0.088891</td>\n",
       "      <td>-0.054452</td>\n",
       "      <td>-0.059196</td>\n",
       "    </tr>\n",
       "    <tr>\n",
       "      <th>Cleanliness</th>\n",
       "      <td>0.053493</td>\n",
       "      <td>0.093121</td>\n",
       "      <td>0.132652</td>\n",
       "      <td>0.014337</td>\n",
       "      <td>0.016192</td>\n",
       "      <td>-0.004015</td>\n",
       "      <td>0.657648</td>\n",
       "      <td>0.331498</td>\n",
       "      <td>0.678478</td>\n",
       "      <td>0.691735</td>\n",
       "      <td>0.123236</td>\n",
       "      <td>0.096401</td>\n",
       "      <td>0.095783</td>\n",
       "      <td>0.179431</td>\n",
       "      <td>0.088891</td>\n",
       "      <td>1.000000</td>\n",
       "      <td>-0.013835</td>\n",
       "      <td>-0.015774</td>\n",
       "    </tr>\n",
       "    <tr>\n",
       "      <th>Departure_Delay_in_Minutes</th>\n",
       "      <td>-0.010150</td>\n",
       "      <td>0.001906</td>\n",
       "      <td>-0.017451</td>\n",
       "      <td>0.000791</td>\n",
       "      <td>-0.006292</td>\n",
       "      <td>0.005533</td>\n",
       "      <td>-0.029983</td>\n",
       "      <td>-0.018515</td>\n",
       "      <td>-0.027323</td>\n",
       "      <td>-0.027691</td>\n",
       "      <td>-0.031474</td>\n",
       "      <td>0.014336</td>\n",
       "      <td>-0.005683</td>\n",
       "      <td>-0.018065</td>\n",
       "      <td>-0.054452</td>\n",
       "      <td>-0.013835</td>\n",
       "      <td>1.000000</td>\n",
       "      <td>0.965481</td>\n",
       "    </tr>\n",
       "    <tr>\n",
       "      <th>Arrival_Delay_in_Minutes</th>\n",
       "      <td>-0.012147</td>\n",
       "      <td>-0.002426</td>\n",
       "      <td>-0.019095</td>\n",
       "      <td>-0.000864</td>\n",
       "      <td>-0.007984</td>\n",
       "      <td>0.005143</td>\n",
       "      <td>-0.032524</td>\n",
       "      <td>-0.021949</td>\n",
       "      <td>-0.029900</td>\n",
       "      <td>-0.030703</td>\n",
       "      <td>-0.035227</td>\n",
       "      <td>0.011843</td>\n",
       "      <td>-0.008542</td>\n",
       "      <td>-0.020369</td>\n",
       "      <td>-0.059196</td>\n",
       "      <td>-0.015774</td>\n",
       "      <td>0.965481</td>\n",
       "      <td>1.000000</td>\n",
       "    </tr>\n",
       "  </tbody>\n",
       "</table>\n",
       "</div>"
      ],
      "text/plain": [
       "                                        Age  Flight_Distance  \\\n",
       "Age                                1.000000         0.099838   \n",
       "Flight_Distance                    0.099838         1.000000   \n",
       "Inflight_wifi_service              0.017470         0.007050   \n",
       "Departure/Arrival_time_convenient  0.038038        -0.019908   \n",
       "Ease_of_Online booking             0.024461         0.065697   \n",
       "Gate_location                     -0.001558         0.004732   \n",
       "Food_and_drink                     0.022920         0.056957   \n",
       "Online_boarding                    0.208681         0.215191   \n",
       "Seat_comfort                       0.160302         0.157517   \n",
       "Inflight_entertainment             0.076380         0.128645   \n",
       "On-board_service                   0.057123         0.109540   \n",
       "Leg_room_service                   0.040498         0.133839   \n",
       "Baggage_handling                  -0.047619         0.063222   \n",
       "Checkin_service                    0.035003         0.073224   \n",
       "Inflight_service                  -0.049899         0.057430   \n",
       "Cleanliness                        0.053493         0.093121   \n",
       "Departure_Delay_in_Minutes        -0.010150         0.001906   \n",
       "Arrival_Delay_in_Minutes          -0.012147        -0.002426   \n",
       "\n",
       "                                   Inflight_wifi_service  \\\n",
       "Age                                             0.017470   \n",
       "Flight_Distance                                 0.007050   \n",
       "Inflight_wifi_service                           1.000000   \n",
       "Departure/Arrival_time_convenient               0.343758   \n",
       "Ease_of_Online booking                          0.715848   \n",
       "Gate_location                                   0.336127   \n",
       "Food_and_drink                                  0.134603   \n",
       "Online_boarding                                 0.457002   \n",
       "Seat_comfort                                    0.122617   \n",
       "Inflight_entertainment                          0.209513   \n",
       "On-board_service                                0.121484   \n",
       "Leg_room_service                                0.160485   \n",
       "Baggage_handling                                0.121060   \n",
       "Checkin_service                                 0.043178   \n",
       "Inflight_service                                0.110626   \n",
       "Cleanliness                                     0.132652   \n",
       "Departure_Delay_in_Minutes                     -0.017451   \n",
       "Arrival_Delay_in_Minutes                       -0.019095   \n",
       "\n",
       "                                   Departure/Arrival_time_convenient  \\\n",
       "Age                                                         0.038038   \n",
       "Flight_Distance                                            -0.019908   \n",
       "Inflight_wifi_service                                       0.343758   \n",
       "Departure/Arrival_time_convenient                           1.000000   \n",
       "Ease_of_Online booking                                      0.437021   \n",
       "Gate_location                                               0.444601   \n",
       "Food_and_drink                                              0.005189   \n",
       "Online_boarding                                             0.069990   \n",
       "Seat_comfort                                                0.011416   \n",
       "Inflight_entertainment                                     -0.004683   \n",
       "On-board_service                                            0.068604   \n",
       "Leg_room_service                                            0.012461   \n",
       "Baggage_handling                                            0.071901   \n",
       "Checkin_service                                             0.093329   \n",
       "Inflight_service                                            0.073227   \n",
       "Cleanliness                                                 0.014337   \n",
       "Departure_Delay_in_Minutes                                  0.000791   \n",
       "Arrival_Delay_in_Minutes                                   -0.000864   \n",
       "\n",
       "                                   Ease_of_Online booking  Gate_location  \\\n",
       "Age                                              0.024461      -0.001558   \n",
       "Flight_Distance                                  0.065697       0.004732   \n",
       "Inflight_wifi_service                            0.715848       0.336127   \n",
       "Departure/Arrival_time_convenient                0.437021       0.444601   \n",
       "Ease_of_Online booking                           1.000000       0.458746   \n",
       "Gate_location                                    0.458746       1.000000   \n",
       "Food_and_drink                                   0.031940      -0.001170   \n",
       "Online_boarding                                  0.404093       0.001451   \n",
       "Seat_comfort                                     0.030021       0.003383   \n",
       "Inflight_entertainment                           0.047185       0.003564   \n",
       "On-board_service                                 0.038759      -0.028532   \n",
       "Leg_room_service                                 0.107431      -0.005868   \n",
       "Baggage_handling                                 0.038851       0.002421   \n",
       "Checkin_service                                  0.010957      -0.035451   \n",
       "Inflight_service                                 0.035330       0.001742   \n",
       "Cleanliness                                      0.016192      -0.004015   \n",
       "Departure_Delay_in_Minutes                      -0.006292       0.005533   \n",
       "Arrival_Delay_in_Minutes                        -0.007984       0.005143   \n",
       "\n",
       "                                   Food_and_drink  Online_boarding  \\\n",
       "Age                                      0.022920         0.208681   \n",
       "Flight_Distance                          0.056957         0.215191   \n",
       "Inflight_wifi_service                    0.134603         0.457002   \n",
       "Departure/Arrival_time_convenient        0.005189         0.069990   \n",
       "Ease_of_Online booking                   0.031940         0.404093   \n",
       "Gate_location                           -0.001170         0.001451   \n",
       "Food_and_drink                           1.000000         0.234492   \n",
       "Online_boarding                          0.234492         1.000000   \n",
       "Seat_comfort                             0.574561         0.420067   \n",
       "Inflight_entertainment                   0.622374         0.285194   \n",
       "On-board_service                         0.058999         0.155345   \n",
       "Leg_room_service                         0.032415         0.123780   \n",
       "Baggage_handling                         0.034811         0.083299   \n",
       "Checkin_service                          0.087055         0.204208   \n",
       "Inflight_service                         0.034077         0.074390   \n",
       "Cleanliness                              0.657648         0.331498   \n",
       "Departure_Delay_in_Minutes              -0.029983        -0.018515   \n",
       "Arrival_Delay_in_Minutes                -0.032524        -0.021949   \n",
       "\n",
       "                                   Seat_comfort  Inflight_entertainment  \\\n",
       "Age                                    0.160302                0.076380   \n",
       "Flight_Distance                        0.157517                0.128645   \n",
       "Inflight_wifi_service                  0.122617                0.209513   \n",
       "Departure/Arrival_time_convenient      0.011416               -0.004683   \n",
       "Ease_of_Online booking                 0.030021                0.047185   \n",
       "Gate_location                          0.003383                0.003564   \n",
       "Food_and_drink                         0.574561                0.622374   \n",
       "Online_boarding                        0.420067                0.285194   \n",
       "Seat_comfort                           1.000000                0.610614   \n",
       "Inflight_entertainment                 0.610614                1.000000   \n",
       "On-board_service                       0.132030                0.420352   \n",
       "Leg_room_service                       0.105447                0.299850   \n",
       "Baggage_handling                       0.074553                0.378361   \n",
       "Checkin_service                        0.191545                0.120812   \n",
       "Inflight_service                       0.069193                0.405247   \n",
       "Cleanliness                            0.678478                0.691735   \n",
       "Departure_Delay_in_Minutes            -0.027323               -0.027691   \n",
       "Arrival_Delay_in_Minutes              -0.029900               -0.030703   \n",
       "\n",
       "                                   On-board_service  Leg_room_service  \\\n",
       "Age                                        0.057123          0.040498   \n",
       "Flight_Distance                            0.109540          0.133839   \n",
       "Inflight_wifi_service                      0.121484          0.160485   \n",
       "Departure/Arrival_time_convenient          0.068604          0.012461   \n",
       "Ease_of_Online booking                     0.038759          0.107431   \n",
       "Gate_location                             -0.028532         -0.005868   \n",
       "Food_and_drink                             0.058999          0.032415   \n",
       "Online_boarding                            0.155345          0.123780   \n",
       "Seat_comfort                               0.132030          0.105447   \n",
       "Inflight_entertainment                     0.420352          0.299850   \n",
       "On-board_service                           1.000000          0.355657   \n",
       "Leg_room_service                           0.355657          1.000000   \n",
       "Baggage_handling                           0.519252          0.369674   \n",
       "Checkin_service                            0.243852          0.153079   \n",
       "Inflight_service                           0.550725          0.368925   \n",
       "Cleanliness                                0.123236          0.096401   \n",
       "Departure_Delay_in_Minutes                -0.031474          0.014336   \n",
       "Arrival_Delay_in_Minutes                  -0.035227          0.011843   \n",
       "\n",
       "                                   Baggage_handling  Checkin_service  \\\n",
       "Age                                       -0.047619         0.035003   \n",
       "Flight_Distance                            0.063222         0.073224   \n",
       "Inflight_wifi_service                      0.121060         0.043178   \n",
       "Departure/Arrival_time_convenient          0.071901         0.093329   \n",
       "Ease_of_Online booking                     0.038851         0.010957   \n",
       "Gate_location                              0.002421        -0.035451   \n",
       "Food_and_drink                             0.034811         0.087055   \n",
       "Online_boarding                            0.083299         0.204208   \n",
       "Seat_comfort                               0.074553         0.191545   \n",
       "Inflight_entertainment                     0.378361         0.120812   \n",
       "On-board_service                           0.519252         0.243852   \n",
       "Leg_room_service                           0.369674         0.153079   \n",
       "Baggage_handling                           1.000000         0.233326   \n",
       "Checkin_service                            0.233326         1.000000   \n",
       "Inflight_service                           0.628944         0.237256   \n",
       "Cleanliness                                0.095783         0.179431   \n",
       "Departure_Delay_in_Minutes                -0.005683        -0.018065   \n",
       "Arrival_Delay_in_Minutes                  -0.008542        -0.020369   \n",
       "\n",
       "                                   Inflight_service  Cleanliness  \\\n",
       "Age                                       -0.049899     0.053493   \n",
       "Flight_Distance                            0.057430     0.093121   \n",
       "Inflight_wifi_service                      0.110626     0.132652   \n",
       "Departure/Arrival_time_convenient          0.073227     0.014337   \n",
       "Ease_of_Online booking                     0.035330     0.016192   \n",
       "Gate_location                              0.001742    -0.004015   \n",
       "Food_and_drink                             0.034077     0.657648   \n",
       "Online_boarding                            0.074390     0.331498   \n",
       "Seat_comfort                               0.069193     0.678478   \n",
       "Inflight_entertainment                     0.405247     0.691735   \n",
       "On-board_service                           0.550725     0.123236   \n",
       "Leg_room_service                           0.368925     0.096401   \n",
       "Baggage_handling                           0.628944     0.095783   \n",
       "Checkin_service                            0.237256     0.179431   \n",
       "Inflight_service                           1.000000     0.088891   \n",
       "Cleanliness                                0.088891     1.000000   \n",
       "Departure_Delay_in_Minutes                -0.054452    -0.013835   \n",
       "Arrival_Delay_in_Minutes                  -0.059196    -0.015774   \n",
       "\n",
       "                                   Departure_Delay_in_Minutes  \\\n",
       "Age                                                 -0.010150   \n",
       "Flight_Distance                                      0.001906   \n",
       "Inflight_wifi_service                               -0.017451   \n",
       "Departure/Arrival_time_convenient                    0.000791   \n",
       "Ease_of_Online booking                              -0.006292   \n",
       "Gate_location                                        0.005533   \n",
       "Food_and_drink                                      -0.029983   \n",
       "Online_boarding                                     -0.018515   \n",
       "Seat_comfort                                        -0.027323   \n",
       "Inflight_entertainment                              -0.027691   \n",
       "On-board_service                                    -0.031474   \n",
       "Leg_room_service                                     0.014336   \n",
       "Baggage_handling                                    -0.005683   \n",
       "Checkin_service                                     -0.018065   \n",
       "Inflight_service                                    -0.054452   \n",
       "Cleanliness                                         -0.013835   \n",
       "Departure_Delay_in_Minutes                           1.000000   \n",
       "Arrival_Delay_in_Minutes                             0.965481   \n",
       "\n",
       "                                   Arrival_Delay_in_Minutes  \n",
       "Age                                               -0.012147  \n",
       "Flight_Distance                                   -0.002426  \n",
       "Inflight_wifi_service                             -0.019095  \n",
       "Departure/Arrival_time_convenient                 -0.000864  \n",
       "Ease_of_Online booking                            -0.007984  \n",
       "Gate_location                                      0.005143  \n",
       "Food_and_drink                                    -0.032524  \n",
       "Online_boarding                                   -0.021949  \n",
       "Seat_comfort                                      -0.029900  \n",
       "Inflight_entertainment                            -0.030703  \n",
       "On-board_service                                  -0.035227  \n",
       "Leg_room_service                                   0.011843  \n",
       "Baggage_handling                                  -0.008542  \n",
       "Checkin_service                                   -0.020369  \n",
       "Inflight_service                                  -0.059196  \n",
       "Cleanliness                                       -0.015774  \n",
       "Departure_Delay_in_Minutes                         0.965481  \n",
       "Arrival_Delay_in_Minutes                           1.000000  "
      ]
     },
     "execution_count": 100,
     "metadata": {},
     "output_type": "execute_result"
    }
   ],
   "source": [
    "df_num.corr()"
   ]
  },
  {
   "cell_type": "code",
   "execution_count": 102,
   "id": "f8b66994",
   "metadata": {},
   "outputs": [
    {
     "data": {
      "text/plain": [
       "<Axes: xlabel='Arrival_Delay_in_Minutes'>"
      ]
     },
     "execution_count": 102,
     "metadata": {},
     "output_type": "execute_result"
    },
    {
     "data": {
      "image/png": "[encoded data removed]",
      "text/plain": [
       "<Figure size 1400x1000 with 4 Axes>"
      ]
     },
     "metadata": {},
     "output_type": "display_data"
    }
   ],
   "source": [
    "plt.figure(figsize=(14,10))\n",
    "sns.set_style(style='whitegrid')\n",
    "plt.subplot(2,3,1)\n",
    "sns.boxplot(x='Age',data=df)\n",
    "plt.subplot(2,3,2)\n",
    "sns.boxplot(x='Flight_Distance',data=df)\n",
    "plt.subplot(2,3,3)\n",
    "sns.boxplot(x='Departure_Delay_in_Minutes',data=df)\n",
    "plt.subplot(2,3,4)\n",
    "sns.boxplot(x='Arrival_Delay_in_Minutes',data=df)"
   ]
  },
  {
   "cell_type": "code",
   "execution_count": 103,
   "id": "343cfff3",
   "metadata": {},
   "outputs": [
    {
     "data": {
      "text/plain": [
       "(103594, 18)"
      ]
     },
     "execution_count": 103,
     "metadata": {},
     "output_type": "execute_result"
    }
   ],
   "source": [
    "df_num.shape"
   ]
  },
  {
   "cell_type": "code",
   "execution_count": 104,
   "id": "96397669",
   "metadata": {},
   "outputs": [],
   "source": [
    "# outlier filter\n",
    "\n",
    "# get thresholds for outlier\n",
    "Q1 = df_num.quantile(0.25)\n",
    "Q3 = df_num.quantile(0.75)\n",
    "IQR = Q3 - Q1\n",
    "lower_bound = Q1 - 1.5 * IQR\n",
    "upper_bound = Q3 + 1.5 * IQR"
   ]
  },
  {
   "cell_type": "code",
   "execution_count": 105,
   "id": "b6daf32c",
   "metadata": {},
   "outputs": [],
   "source": [
    "df = df[~((df_num < lower_bound) | (df_num > upper_bound)).any(axis=1)]"
   ]
  },
  {
   "cell_type": "code",
   "execution_count": 142,
   "id": "05aa0ff4",
   "metadata": {},
   "outputs": [
    {
     "data": {
      "text/plain": [
       "<Axes: xlabel='Arrival_Delay_in_Minutes'>"
      ]
     },
     "execution_count": 142,
     "metadata": {},
     "output_type": "execute_result"
    },
    {
     "data": {
      "image/png": "[encoded data removed]",
      "text/plain": [
       "<Figure size 1400x1000 with 4 Axes>"
      ]
     },
     "metadata": {},
     "output_type": "display_data"
    }
   ],
   "source": [
    "plt.figure(figsize=(14,10))\n",
    "sns.set_style(style='whitegrid')\n",
    "plt.subplot(2,3,1)\n",
    "sns.boxplot(x='Age',data=df)\n",
    "plt.subplot(2,3,2)\n",
    "sns.boxplot(x='Flight_Distance',data=df)\n",
    "plt.subplot(2,3,3)\n",
    "sns.boxplot(x='Departure_Delay_in_Minutes',data=df)\n",
    "plt.subplot(2,3,4)\n",
    "sns.boxplot(x='Arrival_Delay_in_Minutes',data=df)"
   ]
  },
  {
   "cell_type": "code",
   "execution_count": 106,
   "id": "7e59df84",
   "metadata": {},
   "outputs": [
    {
     "data": {
      "text/plain": [
       "(74743, 23)"
      ]
     },
     "execution_count": 106,
     "metadata": {},
     "output_type": "execute_result"
    }
   ],
   "source": [
    "df.shape"
   ]
  },
  {
   "cell_type": "code",
   "execution_count": 126,
   "id": "819119a7",
   "metadata": {},
   "outputs": [],
   "source": [
    "df['satisfaction'].replace({'neutral or dissatisfied': 0, 'satisfied': 1},inplace = True)"
   ]
  },
  {
   "cell_type": "code",
   "execution_count": 127,
   "id": "9903d8db",
   "metadata": {},
   "outputs": [],
   "source": [
    "X = df.drop(columns='satisfaction',axis=1)\n",
    "y=df.satisfaction"
   ]
  },
  {
   "cell_type": "code",
   "execution_count": 128,
   "id": "70cb3da2",
   "metadata": {},
   "outputs": [],
   "source": [
    "X_num = X.select_dtypes('number')\n",
    "X_cat = X.select_dtypes('object')"
   ]
  },
  {
   "cell_type": "code",
   "execution_count": 129,
   "id": "d6c882e7",
   "metadata": {},
   "outputs": [],
   "source": [
    "scaler = MinMaxScaler()\n",
    "X_num_scaled = scaler.fit_transform(X_num)"
   ]
  },
  {
   "cell_type": "code",
   "execution_count": 130,
   "id": "7da3396d",
   "metadata": {},
   "outputs": [
    {
     "data": {
      "text/html": [
       "<div>\n",
       "<style scoped>\n",
       "    .dataframe tbody tr th:only-of-type {\n",
       "        vertical-align: middle;\n",
       "    }\n",
       "\n",
       "    .dataframe tbody tr th {\n",
       "        vertical-align: top;\n",
       "    }\n",
       "\n",
       "    .dataframe thead th {\n",
       "        text-align: right;\n",
       "    }\n",
       "</style>\n",
       "<table border=\"1\" class=\"dataframe\">\n",
       "  <thead>\n",
       "    <tr style=\"text-align: right;\">\n",
       "      <th></th>\n",
       "      <th>Age</th>\n",
       "      <th>Flight_Distance</th>\n",
       "      <th>Inflight_wifi_service</th>\n",
       "      <th>Departure/Arrival_time_convenient</th>\n",
       "      <th>Ease_of_Online booking</th>\n",
       "      <th>Gate_location</th>\n",
       "      <th>Food_and_drink</th>\n",
       "      <th>Online_boarding</th>\n",
       "      <th>Seat_comfort</th>\n",
       "      <th>Inflight_entertainment</th>\n",
       "      <th>On-board_service</th>\n",
       "      <th>Leg_room_service</th>\n",
       "      <th>Baggage_handling</th>\n",
       "      <th>Checkin_service</th>\n",
       "      <th>Inflight_service</th>\n",
       "      <th>Cleanliness</th>\n",
       "      <th>Departure_Delay_in_Minutes</th>\n",
       "      <th>Arrival_Delay_in_Minutes</th>\n",
       "    </tr>\n",
       "  </thead>\n",
       "  <tbody>\n",
       "    <tr>\n",
       "      <th>0</th>\n",
       "      <td>0.076923</td>\n",
       "      <td>0.115789</td>\n",
       "      <td>0.6</td>\n",
       "      <td>0.8</td>\n",
       "      <td>0.6</td>\n",
       "      <td>0.2</td>\n",
       "      <td>1.0</td>\n",
       "      <td>0.6</td>\n",
       "      <td>1.00</td>\n",
       "      <td>1.0</td>\n",
       "      <td>0.8</td>\n",
       "      <td>0.6</td>\n",
       "      <td>0.75</td>\n",
       "      <td>0.666667</td>\n",
       "      <td>1.0</td>\n",
       "      <td>1.0</td>\n",
       "      <td>0.833333</td>\n",
       "      <td>0.56250</td>\n",
       "    </tr>\n",
       "    <tr>\n",
       "      <th>2</th>\n",
       "      <td>0.243590</td>\n",
       "      <td>0.299865</td>\n",
       "      <td>0.4</td>\n",
       "      <td>0.4</td>\n",
       "      <td>0.4</td>\n",
       "      <td>0.4</td>\n",
       "      <td>1.0</td>\n",
       "      <td>1.0</td>\n",
       "      <td>1.00</td>\n",
       "      <td>1.0</td>\n",
       "      <td>0.8</td>\n",
       "      <td>0.6</td>\n",
       "      <td>0.75</td>\n",
       "      <td>0.666667</td>\n",
       "      <td>0.8</td>\n",
       "      <td>1.0</td>\n",
       "      <td>0.000000</td>\n",
       "      <td>0.00000</td>\n",
       "    </tr>\n",
       "    <tr>\n",
       "      <th>4</th>\n",
       "      <td>0.692308</td>\n",
       "      <td>0.049393</td>\n",
       "      <td>0.6</td>\n",
       "      <td>0.6</td>\n",
       "      <td>0.6</td>\n",
       "      <td>0.6</td>\n",
       "      <td>0.8</td>\n",
       "      <td>1.0</td>\n",
       "      <td>1.00</td>\n",
       "      <td>0.6</td>\n",
       "      <td>0.6</td>\n",
       "      <td>0.8</td>\n",
       "      <td>0.75</td>\n",
       "      <td>0.333333</td>\n",
       "      <td>0.6</td>\n",
       "      <td>0.6</td>\n",
       "      <td>0.000000</td>\n",
       "      <td>0.00000</td>\n",
       "    </tr>\n",
       "    <tr>\n",
       "      <th>5</th>\n",
       "      <td>0.243590</td>\n",
       "      <td>0.310121</td>\n",
       "      <td>0.6</td>\n",
       "      <td>0.8</td>\n",
       "      <td>0.4</td>\n",
       "      <td>0.2</td>\n",
       "      <td>0.2</td>\n",
       "      <td>0.4</td>\n",
       "      <td>0.00</td>\n",
       "      <td>0.2</td>\n",
       "      <td>0.6</td>\n",
       "      <td>0.8</td>\n",
       "      <td>0.75</td>\n",
       "      <td>0.666667</td>\n",
       "      <td>0.8</td>\n",
       "      <td>0.2</td>\n",
       "      <td>0.000000</td>\n",
       "      <td>0.00000</td>\n",
       "    </tr>\n",
       "    <tr>\n",
       "      <th>6</th>\n",
       "      <td>0.512821</td>\n",
       "      <td>0.336032</td>\n",
       "      <td>0.4</td>\n",
       "      <td>0.8</td>\n",
       "      <td>0.4</td>\n",
       "      <td>0.6</td>\n",
       "      <td>0.4</td>\n",
       "      <td>0.4</td>\n",
       "      <td>0.25</td>\n",
       "      <td>0.4</td>\n",
       "      <td>0.6</td>\n",
       "      <td>0.6</td>\n",
       "      <td>0.75</td>\n",
       "      <td>0.333333</td>\n",
       "      <td>1.0</td>\n",
       "      <td>0.4</td>\n",
       "      <td>0.300000</td>\n",
       "      <td>0.71875</td>\n",
       "    </tr>\n",
       "  </tbody>\n",
       "</table>\n",
       "</div>"
      ],
      "text/plain": [
       "        Age  Flight_Distance  Inflight_wifi_service  \\\n",
       "0  0.076923         0.115789                    0.6   \n",
       "2  0.243590         0.299865                    0.4   \n",
       "4  0.692308         0.049393                    0.6   \n",
       "5  0.243590         0.310121                    0.6   \n",
       "6  0.512821         0.336032                    0.4   \n",
       "\n",
       "   Departure/Arrival_time_convenient  Ease_of_Online booking  Gate_location  \\\n",
       "0                                0.8                     0.6            0.2   \n",
       "2                                0.4                     0.4            0.4   \n",
       "4                                0.6                     0.6            0.6   \n",
       "5                                0.8                     0.4            0.2   \n",
       "6                                0.8                     0.4            0.6   \n",
       "\n",
       "   Food_and_drink  Online_boarding  Seat_comfort  Inflight_entertainment  \\\n",
       "0             1.0              0.6          1.00                     1.0   \n",
       "2             1.0              1.0          1.00                     1.0   \n",
       "4             0.8              1.0          1.00                     0.6   \n",
       "5             0.2              0.4          0.00                     0.2   \n",
       "6             0.4              0.4          0.25                     0.4   \n",
       "\n",
       "   On-board_service  Leg_room_service  Baggage_handling  Checkin_service  \\\n",
       "0               0.8               0.6              0.75         0.666667   \n",
       "2               0.8               0.6              0.75         0.666667   \n",
       "4               0.6               0.8              0.75         0.333333   \n",
       "5               0.6               0.8              0.75         0.666667   \n",
       "6               0.6               0.6              0.75         0.333333   \n",
       "\n",
       "   Inflight_service  Cleanliness  Departure_Delay_in_Minutes  \\\n",
       "0               1.0          1.0                    0.833333   \n",
       "2               0.8          1.0                    0.000000   \n",
       "4               0.6          0.6                    0.000000   \n",
       "5               0.8          0.2                    0.000000   \n",
       "6               1.0          0.4                    0.300000   \n",
       "\n",
       "   Arrival_Delay_in_Minutes  \n",
       "0                   0.56250  \n",
       "2                   0.00000  \n",
       "4                   0.00000  \n",
       "5                   0.00000  \n",
       "6                   0.71875  "
      ]
     },
     "execution_count": 130,
     "metadata": {},
     "output_type": "execute_result"
    }
   ],
   "source": [
    "# Convert the scaled numpy array back to a DataFrame\n",
    "X_num_scaled = pd.DataFrame(X_num_scaled, columns=X_num.columns, index=X_num.index)\n",
    "X_num_scaled.head()"
   ]
  },
  {
   "cell_type": "code",
   "execution_count": 131,
   "id": "f7ef4170",
   "metadata": {},
   "outputs": [
    {
     "data": {
      "text/html": [
       "<div>\n",
       "<style scoped>\n",
       "    .dataframe tbody tr th:only-of-type {\n",
       "        vertical-align: middle;\n",
       "    }\n",
       "\n",
       "    .dataframe tbody tr th {\n",
       "        vertical-align: top;\n",
       "    }\n",
       "\n",
       "    .dataframe thead th {\n",
       "        text-align: right;\n",
       "    }\n",
       "</style>\n",
       "<table border=\"1\" class=\"dataframe\">\n",
       "  <thead>\n",
       "    <tr style=\"text-align: right;\">\n",
       "      <th></th>\n",
       "      <th>Gender_Female</th>\n",
       "      <th>Gender_Male</th>\n",
       "      <th>Customer_Type_Loyal Customer</th>\n",
       "      <th>Customer_Type_disloyal Customer</th>\n",
       "      <th>Type_of_Travel_Business travel</th>\n",
       "      <th>Type_of_Travel_Personal Travel</th>\n",
       "      <th>Class_Business</th>\n",
       "      <th>Class_Eco</th>\n",
       "      <th>Class_Eco Plus</th>\n",
       "    </tr>\n",
       "  </thead>\n",
       "  <tbody>\n",
       "    <tr>\n",
       "      <th>0</th>\n",
       "      <td>0</td>\n",
       "      <td>1</td>\n",
       "      <td>1</td>\n",
       "      <td>0</td>\n",
       "      <td>0</td>\n",
       "      <td>1</td>\n",
       "      <td>0</td>\n",
       "      <td>0</td>\n",
       "      <td>1</td>\n",
       "    </tr>\n",
       "    <tr>\n",
       "      <th>2</th>\n",
       "      <td>1</td>\n",
       "      <td>0</td>\n",
       "      <td>1</td>\n",
       "      <td>0</td>\n",
       "      <td>1</td>\n",
       "      <td>0</td>\n",
       "      <td>1</td>\n",
       "      <td>0</td>\n",
       "      <td>0</td>\n",
       "    </tr>\n",
       "    <tr>\n",
       "      <th>4</th>\n",
       "      <td>0</td>\n",
       "      <td>1</td>\n",
       "      <td>1</td>\n",
       "      <td>0</td>\n",
       "      <td>1</td>\n",
       "      <td>0</td>\n",
       "      <td>1</td>\n",
       "      <td>0</td>\n",
       "      <td>0</td>\n",
       "    </tr>\n",
       "    <tr>\n",
       "      <th>5</th>\n",
       "      <td>1</td>\n",
       "      <td>0</td>\n",
       "      <td>1</td>\n",
       "      <td>0</td>\n",
       "      <td>0</td>\n",
       "      <td>1</td>\n",
       "      <td>0</td>\n",
       "      <td>1</td>\n",
       "      <td>0</td>\n",
       "    </tr>\n",
       "    <tr>\n",
       "      <th>6</th>\n",
       "      <td>0</td>\n",
       "      <td>1</td>\n",
       "      <td>1</td>\n",
       "      <td>0</td>\n",
       "      <td>0</td>\n",
       "      <td>1</td>\n",
       "      <td>0</td>\n",
       "      <td>1</td>\n",
       "      <td>0</td>\n",
       "    </tr>\n",
       "  </tbody>\n",
       "</table>\n",
       "</div>"
      ],
      "text/plain": [
       "   Gender_Female  Gender_Male  Customer_Type_Loyal Customer  \\\n",
       "0              0            1                             1   \n",
       "2              1            0                             1   \n",
       "4              0            1                             1   \n",
       "5              1            0                             1   \n",
       "6              0            1                             1   \n",
       "\n",
       "   Customer_Type_disloyal Customer  Type_of_Travel_Business travel  \\\n",
       "0                                0                               0   \n",
       "2                                0                               1   \n",
       "4                                0                               1   \n",
       "5                                0                               0   \n",
       "6                                0                               0   \n",
       "\n",
       "   Type_of_Travel_Personal Travel  Class_Business  Class_Eco  Class_Eco Plus  \n",
       "0                               1               0          0               1  \n",
       "2                               0               1          0               0  \n",
       "4                               0               1          0               0  \n",
       "5                               1               0          1               0  \n",
       "6                               1               0          1               0  "
      ]
     },
     "execution_count": 131,
     "metadata": {},
     "output_type": "execute_result"
    }
   ],
   "source": [
    "X_cat_encoded = pd.get_dummies(X_cat, drop_first=False, dtype=int)\n",
    "X_cat_encoded.head()"
   ]
  },
  {
   "cell_type": "code",
   "execution_count": 132,
   "id": "850c4f76",
   "metadata": {},
   "outputs": [],
   "source": [
    "X = pd.concat([X_num_scaled, X_cat_encoded], axis=1)"
   ]
  },
  {
   "cell_type": "code",
   "execution_count": 133,
   "id": "70b0733d",
   "metadata": {},
   "outputs": [],
   "source": [
    "X_train,X_test,y_train,y_test = train_test_split(X,y,test_size=0.3,random_state=42)"
   ]
  },
  {
   "cell_type": "code",
   "execution_count": 134,
   "id": "eb6b987b",
   "metadata": {},
   "outputs": [
    {
     "name": "stdout",
     "output_type": "stream",
     "text": [
      "(52320, 27) (22423, 27) (52320,) (22423,)\n"
     ]
    }
   ],
   "source": [
    "print(X_train.shape,X_test.shape,y_train.shape,y_test.shape)"
   ]
  },
  {
   "cell_type": "markdown",
   "id": "10710f22",
   "metadata": {},
   "source": [
    "## Model Evaluation "
   ]
  },
  {
   "cell_type": "markdown",
   "id": "4eafa742",
   "metadata": {},
   "source": [
    "#### Decision Tree"
   ]
  },
  {
   "cell_type": "code",
   "execution_count": 161,
   "id": "4954b3af",
   "metadata": {},
   "outputs": [],
   "source": [
    "dt = DecisionTreeClassifier()\n",
    "\n",
    "criterion=['entropy']\n",
    "max_depth=[3]\n",
    "random_state=[0]\n",
    "\n",
    "parameters= dict(criterion=criterion,max_depth=max_depth,random_state=random_state)\n",
    "\n",
    "gridsearchDT = GridSearchCV(dt, parameters, cv = 5)\n",
    "gridsearchDT.fit(X_train, y_train)\n",
    "\n",
    "gridsearchDT.best_params_\n",
    "predictions =gridsearchDT.predict(X_test)"
   ]
  },
  {
   "cell_type": "code",
   "execution_count": 162,
   "id": "629dda78",
   "metadata": {},
   "outputs": [
    {
     "name": "stdout",
     "output_type": "stream",
     "text": [
      "              precision    recall  f1-score   support\n",
      "\n",
      "           0       0.92      0.88      0.90     11978\n",
      "           1       0.87      0.91      0.89     10445\n",
      "\n",
      "    accuracy                           0.89     22423\n",
      "   macro avg       0.89      0.90      0.89     22423\n",
      "weighted avg       0.90      0.89      0.90     22423\n",
      "\n",
      "\n",
      "\n"
     ]
    },
    {
     "data": {
      "image/png": "[encoded data removed]",
      "text/plain": [
       "<Figure size 640x480 with 2 Axes>"
      ]
     },
     "metadata": {},
     "output_type": "display_data"
    }
   ],
   "source": [
    "#Report\n",
    "decision_tree_report = classification_report(y_test, predictions)\n",
    "print(decision_tree_report)\n",
    "print('\\n')\n",
    "matrix = confusion_matrix(y_test, predictions)\n",
    "sns.heatmap(matrix, annot=True, fmt=\"d\");\n",
    "plt.title('Confusion Matrix');\n",
    "plt.xlabel('Predicted');\n",
    "plt.ylabel('True');"
   ]
  },
  {
   "cell_type": "code",
   "execution_count": 163,
   "id": "a35f781b",
   "metadata": {},
   "outputs": [
    {
     "data": {
      "text/plain": [
       "0.8949293136511618"
      ]
     },
     "execution_count": 163,
     "metadata": {},
     "output_type": "execute_result"
    }
   ],
   "source": [
    "accuracy_score(y_test, predictions)"
   ]
  },
  {
   "cell_type": "code",
   "execution_count": 137,
   "id": "09bcb7f1",
   "metadata": {},
   "outputs": [
    {
     "data": {
      "text/plain": [
       "{'criterion': 'entropy', 'max_depth': 3, 'random_state': 0}"
      ]
     },
     "execution_count": 137,
     "metadata": {},
     "output_type": "execute_result"
    }
   ],
   "source": [
    "# to show the best parameter\n",
    "gridsearchDT.best_params_"
   ]
  },
  {
   "cell_type": "code",
   "execution_count": 138,
   "id": "763d3f18",
   "metadata": {},
   "outputs": [
    {
     "data": {
      "image/png": "[encoded data removed]",
      "text/plain": [
       "<Figure size 640x480 with 1 Axes>"
      ]
     },
     "metadata": {},
     "output_type": "display_data"
    }
   ],
   "source": [
    "from sklearn import metrics\n",
    "predictions = gridsearchDT.predict_proba(X_test)[::,1]\n",
    "fpr, tpr, _ = metrics.roc_curve(y_test,  predictions)\n",
    "\n",
    "#create ROC curve\n",
    "plt.plot(fpr,tpr)\n",
    "plt.title('DecisionTree model accuracy')\n",
    "plt.ylabel('True Positive Rate')\n",
    "plt.xlabel('False Positive Rate')\n",
    "plt.show()"
   ]
  },
  {
   "cell_type": "code",
   "execution_count": 141,
   "id": "490ab370",
   "metadata": {},
   "outputs": [
    {
     "name": "stdout",
     "output_type": "stream",
     "text": [
      "AUC: 0.9286236151310113\n"
     ]
    }
   ],
   "source": [
    "# Compute AUC\n",
    "auc = roc_auc_score(y_test, predictions)\n",
    "\n",
    "# Print  AUC\n",
    "print('AUC:', auc)"
   ]
  },
  {
   "cell_type": "markdown",
   "id": "7c2ddfc6",
   "metadata": {},
   "source": [
    "#### Random Forest"
   ]
  },
  {
   "cell_type": "code",
   "execution_count": 164,
   "id": "0f30ca1c",
   "metadata": {},
   "outputs": [],
   "source": [
    "rf = RandomForestClassifier()\n",
    "\n",
    "\n",
    "n_estimators= [100,200]\n",
    "max_depth= [4,6,8]\n",
    "\n",
    "parameters=dict(n_estimators=n_estimators, max_features=max_features, max_depth=max_depth )\n",
    "\n",
    "gridsearchRF = GridSearchCV(rf, parameters, cv = 5)\n",
    "gridsearchRF.fit(X_train, y_train)\n",
    "\n",
    "gridsearchRF.best_params_\n",
    "predictions =gridsearchRF.predict(X_test)"
   ]
  },
  {
   "cell_type": "code",
   "execution_count": 165,
   "id": "b72026de",
   "metadata": {},
   "outputs": [
    {
     "name": "stdout",
     "output_type": "stream",
     "text": [
      "              precision    recall  f1-score   support\n",
      "\n",
      "           0       0.94      0.95      0.95     11978\n",
      "           1       0.95      0.93      0.94     10445\n",
      "\n",
      "    accuracy                           0.94     22423\n",
      "   macro avg       0.94      0.94      0.94     22423\n",
      "weighted avg       0.94      0.94      0.94     22423\n",
      "\n",
      "\n",
      "\n"
     ]
    },
    {
     "data": {
      "image/png": "[encoded data removed]",
      "text/plain": [
       "<Figure size 640x480 with 2 Axes>"
      ]
     },
     "metadata": {},
     "output_type": "display_data"
    }
   ],
   "source": [
    "#Report\n",
    "random_forest_report = classification_report(y_test, predictions)\n",
    "print(random_forest_report)\n",
    "print('\\n')\n",
    "matrix = confusion_matrix(y_test, predictions)\n",
    "sns.heatmap(matrix, annot=True, fmt=\"d\");\n",
    "plt.title('Confusion Matrix');\n",
    "plt.xlabel('Predicted');\n",
    "plt.ylabel('True');"
   ]
  },
  {
   "cell_type": "code",
   "execution_count": 166,
   "id": "a26ce8c2",
   "metadata": {},
   "outputs": [
    {
     "data": {
      "text/plain": [
       "0.9413994559158008"
      ]
     },
     "execution_count": 166,
     "metadata": {},
     "output_type": "execute_result"
    }
   ],
   "source": [
    "accuracy_score(y_test, predictions)"
   ]
  },
  {
   "cell_type": "code",
   "execution_count": 167,
   "id": "4bbe0588",
   "metadata": {},
   "outputs": [
    {
     "data": {
      "text/plain": [
       "{'max_depth': 8, 'max_features': 'sqrt', 'n_estimators': 200}"
      ]
     },
     "execution_count": 167,
     "metadata": {},
     "output_type": "execute_result"
    }
   ],
   "source": [
    "# to show the best parameter\n",
    "gridsearchRF.best_params_"
   ]
  },
  {
   "cell_type": "code",
   "execution_count": 168,
   "id": "155b7add",
   "metadata": {},
   "outputs": [
    {
     "data": {
      "image/png": "[encoded data removed]",
      "text/plain": [
       "<Figure size 640x480 with 1 Axes>"
      ]
     },
     "metadata": {},
     "output_type": "display_data"
    }
   ],
   "source": [
    "predictions = gridsearchRF.predict_proba(X_test)[::,1]\n",
    "fpr, tpr, _ = metrics.roc_curve(y_test,  predictions)\n",
    "\n",
    "#create ROC curve\n",
    "plt.plot(fpr,tpr)\n",
    "plt.title('RandomForest model accuracy')\n",
    "plt.ylabel('True Positive Rate')\n",
    "plt.xlabel('False Positive Rate')\n",
    "plt.show()"
   ]
  },
  {
   "cell_type": "code",
   "execution_count": 169,
   "id": "721bbe1e",
   "metadata": {},
   "outputs": [
    {
     "name": "stdout",
     "output_type": "stream",
     "text": [
      "AUC: 0.9875605396234247\n"
     ]
    }
   ],
   "source": [
    "# Compute AUC\n",
    "auc = roc_auc_score(y_test, predictions)\n",
    "\n",
    "# Print  AUC\n",
    "print('AUC:', auc)"
   ]
  },
  {
   "cell_type": "code",
   "execution_count": 172,
   "id": "1d5448c9",
   "metadata": {},
   "outputs": [
    {
     "name": "stdout",
     "output_type": "stream",
     "text": [
      "     Unnamed: 0  precision  recall  f1-score  Decision_Tree_Support  \\\n",
      "0             0       0.92    0.88      0.90                  11978   \n",
      "1             1       0.87    0.91      0.89                  10445   \n",
      "2      accuracy        NaN     NaN      0.89                  22423   \n",
      "3     macro avg       0.89    0.90      0.89                  22423   \n",
      "4  weighted avg       0.90    0.89      0.90                  22423   \n",
      "\n",
      "     Unnamed: 0  precision  recall  f1-score  Random_Forest_Support  \n",
      "0             0       0.94    0.95      0.95                  11978  \n",
      "1             1       0.95    0.93      0.94                  10445  \n",
      "2      accuracy        NaN     NaN      0.94                  22423  \n",
      "3     macro avg       0.94    0.94      0.94                  22423  \n",
      "4  weighted avg       0.94    0.94      0.94                  22423  \n"
     ]
    }
   ],
   "source": [
    "import io\n",
    "decision_tree_df = pd.read_fwf(io.StringIO(decision_tree_report), header=0)\n",
    "random_forest_df = pd.read_fwf(io.StringIO(random_forest_report), header=0)\n",
    "\n",
    "# Rename the 'support' column to distinguish between reports\n",
    "decision_tree_df = decision_tree_df.rename(columns={'support': 'Decision_Tree_Support'})\n",
    "random_forest_df = random_forest_df.rename(columns={'support': 'Random_Forest_Support'})\n",
    "\n",
    "# Concatenate the DataFrames horizontally for comparison\n",
    "comparison_df = pd.concat([decision_tree_df, random_forest_df], axis=1)\n",
    "\n",
    "# Display the comparison DataFrame\n",
    "print(comparison_df)\n"
   ]
  },
  {
   "cell_type": "code",
   "execution_count": null,
   "id": "dfa3a22e",
   "metadata": {},
   "outputs": [],
   "source": []
  }
 ],
 "metadata": {
  "kernelspec": {
   "display_name": "Python 3 (ipykernel)",
   "language": "python",
   "name": "python3"
  },
  "language_info": {
   "codemirror_mode": {
    "name": "ipython",
    "version": 3
   },
   "file_extension": ".py",
   "mimetype": "text/x-python",
   "name": "python",
   "nbconvert_exporter": "python",
   "pygments_lexer": "ipython3",
   "version": "3.11.3"
  }
 },
 "nbformat": 4,
 "nbformat_minor": 5
}
